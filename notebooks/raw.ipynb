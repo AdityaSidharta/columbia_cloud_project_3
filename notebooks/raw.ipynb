{
 "cells": [
  {
   "cell_type": "code",
   "execution_count": 1,
   "id": "59f262ce",
   "metadata": {},
   "outputs": [],
   "source": [
    "import boto3\n",
    "import string\n",
    "import sys\n",
    "import numpy as np\n",
    "from hashlib import md5\n",
    "from sagemaker.mxnet.model import MXNetPredictor"
   ]
  },
  {
   "cell_type": "code",
   "execution_count": 9,
   "id": "f2bee533",
   "metadata": {},
   "outputs": [],
   "source": [
    "if sys.version_info < (3,):\n",
    "    maketrans = string.maketrans\n",
    "else:\n",
    "    maketrans = str.maketrans\n",
    "    \n",
    "def vectorize_sequences(sequences, vocabulary_length):\n",
    "    results = np.zeros((len(sequences), vocabulary_length))\n",
    "    for i, sequence in enumerate(sequences):\n",
    "       results[i, sequence] = 1. \n",
    "    return results\n",
    "\n",
    "def one_hot_encode(messages, vocabulary_length):\n",
    "    data = []\n",
    "    for msg in messages:\n",
    "        temp = one_hot(msg, vocabulary_length)\n",
    "        data.append(temp)\n",
    "    return data\n",
    "\n",
    "def text_to_word_sequence(text,\n",
    "                          filters='!\"#$%&()*+,-./:;<=>?@[\\\\]^_`{|}~\\t\\n',\n",
    "                          lower=True, split=\" \"):\n",
    "    \"\"\"Converts a text to a sequence of words (or tokens).\n",
    "    # Arguments\n",
    "        text: Input text (string).\n",
    "        filters: list (or concatenation) of characters to filter out, such as\n",
    "            punctuation. Default: `!\"#$%&()*+,-./:;<=>?@[\\\\]^_`{|}~\\t\\n`,\n",
    "            includes basic punctuation, tabs, and newlines.\n",
    "        lower: boolean. Whether to convert the input to lowercase.\n",
    "        split: str. Separator for word splitting.\n",
    "    # Returns\n",
    "        A list of words (or tokens).\n",
    "    \"\"\"\n",
    "    if lower:\n",
    "        text = text.lower()\n",
    "\n",
    "    if sys.version_info < (3,):\n",
    "        if isinstance(text, unicode):\n",
    "            translate_map = dict((ord(c), unicode(split)) for c in filters)\n",
    "            text = text.translate(translate_map)\n",
    "        elif len(split) == 1:\n",
    "            translate_map = maketrans(filters, split * len(filters))\n",
    "            text = text.translate(translate_map)\n",
    "        else:\n",
    "            for c in filters:\n",
    "                text = text.replace(c, split)\n",
    "    else:\n",
    "        translate_dict = dict((c, split) for c in filters)\n",
    "        translate_map = maketrans(translate_dict)\n",
    "        text = text.translate(translate_map)\n",
    "\n",
    "    seq = text.split(split)\n",
    "    return [i for i in seq if i]\n",
    "\n",
    "def one_hot(text, n,\n",
    "            filters='!\"#$%&()*+,-./:;<=>?@[\\\\]^_`{|}~\\t\\n',\n",
    "            lower=True,\n",
    "            split=' '):\n",
    "    \"\"\"One-hot encodes a text into a list of word indexes of size n.\n",
    "    This is a wrapper to the `hashing_trick` function using `hash` as the\n",
    "    hashing function; unicity of word to index mapping non-guaranteed.\n",
    "    # Arguments\n",
    "        text: Input text (string).\n",
    "        n: int. Size of vocabulary.\n",
    "        filters: list (or concatenation) of characters to filter out, such as\n",
    "            punctuation. Default: `!\"#$%&()*+,-./:;<=>?@[\\\\]^_`{|}~\\t\\n`,\n",
    "            includes basic punctuation, tabs, and newlines.\n",
    "        lower: boolean. Whether to set the text to lowercase.\n",
    "        split: str. Separator for word splitting.\n",
    "    # Returns\n",
    "        List of integers in [1, n]. Each integer encodes a word\n",
    "        (unicity non-guaranteed).\n",
    "    \"\"\"\n",
    "    return hashing_trick(text, n,\n",
    "                         hash_function='md5',\n",
    "                         filters=filters,\n",
    "                         lower=lower,\n",
    "                         split=split)\n",
    "\n",
    "\n",
    "def hashing_trick(text, n,\n",
    "                  hash_function=None,\n",
    "                  filters='!\"#$%&()*+,-./:;<=>?@[\\\\]^_`{|}~\\t\\n',\n",
    "                  lower=True,\n",
    "                  split=' '):\n",
    "    \"\"\"Converts a text to a sequence of indexes in a fixed-size hashing space.\n",
    "    # Arguments\n",
    "        text: Input text (string).\n",
    "        n: Dimension of the hashing space.\n",
    "        hash_function: defaults to python `hash` function, can be 'md5' or\n",
    "            any function that takes in input a string and returns a int.\n",
    "            Note that 'hash' is not a stable hashing function, so\n",
    "            it is not consistent across different runs, while 'md5'\n",
    "            is a stable hashing function.\n",
    "        filters: list (or concatenation) of characters to filter out, such as\n",
    "            punctuation. Default: `!\"#$%&()*+,-./:;<=>?@[\\\\]^_`{|}~\\t\\n`,\n",
    "            includes basic punctuation, tabs, and newlines.\n",
    "        lower: boolean. Whether to set the text to lowercase.\n",
    "        split: str. Separator for word splitting.\n",
    "    # Returns\n",
    "        A list of integer word indices (unicity non-guaranteed).\n",
    "    `0` is a reserved index that won't be assigned to any word.\n",
    "    Two or more words may be assigned to the same index, due to possible\n",
    "    collisions by the hashing function.\n",
    "    The [probability](\n",
    "        https://en.wikipedia.org/wiki/Birthday_problem#Probability_table)\n",
    "    of a collision is in relation to the dimension of the hashing space and\n",
    "    the number of distinct objects.\n",
    "    \"\"\"\n",
    "    if hash_function is None:\n",
    "        hash_function = hash\n",
    "    elif hash_function == 'md5':\n",
    "        hash_function = lambda w: int(md5(w.encode()).hexdigest(), 16)\n",
    "\n",
    "    seq = text_to_word_sequence(text,\n",
    "                                filters=filters,\n",
    "                                lower=lower,\n",
    "                                split=split)\n",
    "    return [int(hash_function(w) % (n - 1) + 1) for w in seq]"
   ]
  },
  {
   "cell_type": "code",
   "execution_count": 10,
   "id": "1184e976",
   "metadata": {},
   "outputs": [],
   "source": [
    "vocabulary_length = 9013\n",
    "model = MXNetPredictor('sms-spam-classifier-mxnet-2022-11-21-22-42-04-356')"
   ]
  },
  {
   "cell_type": "code",
   "execution_count": 11,
   "id": "eac30dec",
   "metadata": {},
   "outputs": [
    {
     "name": "stdout",
     "output_type": "stream",
     "text": [
      "{'predicted_probability': [[0.9998780488967896]], 'predicted_label': [[1.0]]}\n"
     ]
    }
   ],
   "source": [
    "test_messages = [\"FreeMsg: Txt: CALL to No: 86888 & claim your reward of 3 hours talk time to use from your phone now! ubscribe6GBP/ mnth inc 3hrs 16 stop?txtStop\"]\n",
    "one_hot_test_messages = one_hot_encode(test_messages, vocabulary_length)\n",
    "encoded_test_messages = vectorize_sequences(one_hot_test_messages, vocabulary_length)\n",
    "\n",
    "result = model.predict(encoded_test_messages)\n",
    "print(result)"
   ]
  },
  {
   "cell_type": "code",
   "execution_count": 14,
   "id": "27d5de08",
   "metadata": {},
   "outputs": [],
   "source": [
    "s3 = boto3.resource('s3')"
   ]
  },
  {
   "cell_type": "code",
   "execution_count": 63,
   "id": "8b19dc1e",
   "metadata": {},
   "outputs": [],
   "source": [
    "obj = s3.Object('spamemail-email', '6jpcf86git708tir8e2rof14jluc9lgp24gb5301')\n",
    "value = obj.get()['Body'].read().decode('utf-8')"
   ]
  },
  {
   "cell_type": "code",
   "execution_count": 65,
   "id": "237523ef",
   "metadata": {},
   "outputs": [],
   "source": [
    "import mailparser"
   ]
  },
  {
   "cell_type": "code",
   "execution_count": 66,
   "id": "a4a02ba8",
   "metadata": {},
   "outputs": [],
   "source": [
    "mail = mailparser.parse_from_string(value)"
   ]
  },
  {
   "cell_type": "code",
   "execution_count": 68,
   "id": "00c3b7dc",
   "metadata": {},
   "outputs": [
    {
     "data": {
      "text/plain": [
       "'dfasdfasdfasdfasdf\\r\\n-- \\r\\nRegards,\\r\\n\\r\\n\\r\\n[image: AdityaSidharta]\\r\\n\\r\\n* Aditya Kelvianto Sidharta <http://adityasidharta.github.io> * • He/Him\\r\\n<http://adityasidharta.github.io> • Data Scientist\\r\\n<http://adityasidharta.github.io>\\r\\n\\r\\nContact: (917)-667-6838 <aditya.sdrt@gmail.com>\\r\\n\\r\\nEmail: aditya.sdrt@gmail.com\\r\\n\\r\\nLocation: New York City, New York <https://goo.gl/maps/mznG2BAVpzYT6GLZ9>\\r\\n\\r\\n[image: LinkedIn] <https://www.linkedin.com/in/adityasidharta/> [image:\\r\\nGithub] <https://github.com/AdityaSidharta> [image: Kaggle]\\r\\n<https://github.com/AdityaSidharta> [image: PersonalWebsite]\\r\\n<http://adityasidharta.github.io>\\r\\n\\n--- mail_boundary ---\\n<div dir=\"ltr\"><div><br clear=\"all\"></div>dfasdfasdfasdfasdf<br><div>-- <br><div dir=\"ltr\" class=\"gmail_signature\" data-smartmail=\"gmail_signature\"><div dir=\"ltr\"><div><div dir=\"ltr\"><div><div dir=\"ltr\"><div><div dir=\"ltr\">Regards,</div><div dir=\"ltr\"><br></div><div dir=\"ltr\">\\r\\n<br>\\r\\n \\r\\n<table style=\"margin:0;padding:0;max-width:320px\" cellspacing=\"0\" cellpadding=\"0\">\\r\\n  <tbody><tr>\\r\\n    <td style=\"width:60px;margin:0\" width=\"60\">\\r\\n      <img src=\"https://github.com/AdityaSidharta/email_signature/blob/master/Assets/personal_photo.png?raw=true\" alt=\"AdityaSidharta\" style=\"width:60px;height:auto;border-radius:30px\">\\r\\n    </td>\\r\\n \\r\\n    <td style=\"width:10px;min-width:10px;max-width:10px;margin:0;padding:0\" width=\"100\">\\xa0</td>\\r\\n    <td style=\"width:2px;min-width:2px;max-width:2px;padding:0;background-color:#049cdb\" width=\"2\"><br></td> \\r\\n    <td style=\"width:10px;min-width:10px;max-width:10px;margin:0;padding:0\" width=\"100\">\\xa0</td>\\r\\n \\r\\n    <td style=\"margin:0;padding:0\">\\r\\n      <table style=\"padding:0;margin:0;font-family:&#39;Lucida Grande&#39;,sans-serif;font-size:10px;line-height:10px;color:#b0b0b0;border-collapse:collapse;table-layout:fixed;width:100%\" cellspacing=\"0\" cellpadding=\"0\">\\r\\n        <tbody><tr style=\"margin:0;padding:0\">\\r\\n          <td style=\"margin:0;padding:0;font-family:&#39;Lucida Grande&#39;,sans-serif;white-space:nowrap\">\\r\\n            <b>\\r\\n              <a href=\"http://adityasidharta.github.io\" style=\"border:none;text-decoration:none;color:#049cdb\" target=\"_blank\">\\r\\n                <span style=\"color:#049cdb\">Aditya Kelvianto Sidharta</span>\\r\\n              </a>\\r\\n            </b>\\r\\n              <span style=\"color:#049cdb\">•</span>\\r\\n                <a href=\"http://adityasidharta.github.io\" style=\"border:none;text-decoration:none;color:#b0b0b0\" target=\"_blank\">\\r\\n                <span style=\"color:#b0b0b0\">He/Him</span>\\r\\n              </a>\\r\\n            \\r\\n            <span style=\"color:#049cdb\">•</span>\\r\\n              <a href=\"http://adityasidharta.github.io\" style=\"border:none;text-decoration:none;color:#b0b0b0\" target=\"_blank\">\\r\\n              <span style=\"color:#b0b0b0\">Data Scientist</span>\\r\\n            </a>\\r\\n          </td>\\r\\n        </tr>\\r\\n \\r\\n        <tr>\\r\\n          <td style=\"height:4px;font-size:5px;line-height:4px\" height=\"4\">\\xa0</td>\\r\\n        </tr>\\r\\n        \\r\\n        <tr style=\"margin:0;padding:0\">\\r\\n          <td style=\"margin:0;padding:0;font-family:&#39;Lucida Grande&#39;,sans-serif;white-space:nowrap\">\\r\\n            <span style=\"color:#049cdb\">Contact: </span>\\r\\n            <a href=\"mailto:aditya.sdrt@gmail.com\" style=\"border:none;text-decoration:none;color:#b0b0b0\" target=\"_blank\">\\r\\n              <span style=\"color:#b0b0b0\">(917)-667-6838</span>\\r\\n            </a>\\r\\n          </td>\\r\\n        </tr>\\r\\n\\r\\n        <tr>\\r\\n          <td style=\"height:2px;font-size:5px;line-height:2px\" height=\"2\">\\xa0</td>\\r\\n        </tr>\\r\\n\\r\\n        <tr style=\"margin:0;padding:0\">\\r\\n          <td style=\"margin:0;padding:0;font-family:&#39;Lucida Grande&#39;,sans-serif;white-space:nowrap\">\\r\\n            <span style=\"color:#049cdb\">Email: </span>\\r\\n            <a href=\"mailto:aditya.sdrt@gmail.com\" style=\"border:none;text-decoration:none;color:#b0b0b0\" target=\"_blank\">\\r\\n              <span style=\"color:#b0b0b0\">aditya.sdrt@gmail.com</span>\\r\\n            </a>\\r\\n          </td>\\r\\n        </tr>\\r\\n\\r\\n        <tr>\\r\\n          <td style=\"height:2px;font-size:5px;line-height:2px\" height=\"2\">\\xa0</td>\\r\\n        </tr>\\r\\n\\r\\n        <tr style=\"margin:0;padding:0\">\\r\\n          <td style=\"margin:0;padding:0;font-family:&#39;Lucida Grande&#39;,sans-serif;white-space:nowrap\">\\r\\n            <span style=\"color:#049cdb\">Location: </span>\\r\\n            <a href=\"https://goo.gl/maps/mznG2BAVpzYT6GLZ9\" style=\"border:none;text-decoration:none;color:#b0b0b0\" target=\"_blank\">\\r\\n              <span style=\"color:#b0b0b0\">New York City, New York</span>\\r\\n            </a>\\r\\n          </td>\\r\\n        </tr>\\r\\n\\r\\n        <tr>\\r\\n          <td style=\"height:4px;font-size:5px;line-height:4px\" height=\"4\">\\xa0</td>\\r\\n        </tr>\\r\\n      </tbody></table>\\r\\n\\r\\n      <table cellspacing=\"0\" cellpadding=\"0\">\\r\\n        <tbody><tr>\\r\\n          <td style=\"padding-right:5;max-width:20px\" width=\"20\">\\r\\n            <a href=\"https://www.linkedin.com/in/adityasidharta/\" style=\"border:none;text-decoration:none;color:#b0b0b0\" target=\"_blank\"><img src=\"https://github.com/AdityaSidharta/email_signature/blob/master/Assets/linkedin.png?raw=true\" alt=\"LinkedIn\" style=\"width:20px\"></a>\\r\\n          </td>\\r\\n          <td style=\"padding-right:5;max-width:20px\" width=\"20\">\\r\\n            <a href=\"https://github.com/AdityaSidharta\" style=\"border:none;text-decoration:none;color:#b0b0b0\" target=\"_blank\"><img src=\"https://github.com/AdityaSidharta/email_signature/blob/master/Assets/Github.png?raw=true\" alt=\"Github\" style=\"width:20px\"></a>\\r\\n          </td>\\r\\n          <td style=\"padding-right:5;max-width:20px\" width=\"20\">\\r\\n            <a href=\"https://github.com/AdityaSidharta\" style=\"border:none;text-decoration:none;color:#b0b0b0\" target=\"_blank\"><img src=\"https://github.com/AdityaSidharta/email_signature/blob/master/Assets/Kaggle.png?raw=true\" alt=\"Kaggle\" style=\"width:20px\"></a>\\r\\n          </td> \\r\\n          <td style=\"max-width:20px\" width=\"20\">\\r\\n            <a href=\"http://adityasidharta.github.io\" style=\"border:none;text-decoration:none;color:#b0b0b0\" target=\"_blank\"><img src=\"https://github.com/AdityaSidharta/email_signature/blob/master/Assets/personal_website.png?raw=true\" alt=\"PersonalWebsite\" style=\"width:20px\"></a>\\r\\n          </td> \\r\\n        </tr>\\r\\n      </tbody></table>\\r\\n    </td>\\r\\n  </tr><tr>\\r\\n</tr></tbody></table>\\xa0<br><div>\\xa0\\r\\n<br></div></div></div></div></div></div></div></div></div></div></div>\\r\\n'"
      ]
     },
     "execution_count": 68,
     "metadata": {},
     "output_type": "execute_result"
    }
   ],
   "source": [
    "[mail.body]"
   ]
  },
  {
   "cell_type": "code",
   "execution_count": 62,
   "id": "753daad4",
   "metadata": {},
   "outputs": [
    {
     "data": {
      "text/plain": [
       "'O1Bg=='"
      ]
     },
     "execution_count": 62,
     "metadata": {},
     "output_type": "execute_result"
    }
   ],
   "source": [
    "[x.strip() for x in value.split('\\n')][24]"
   ]
  },
  {
   "cell_type": "code",
   "execution_count": 38,
   "id": "8f70a2b6",
   "metadata": {},
   "outputs": [
    {
     "name": "stdout",
     "output_type": "stream",
     "text": [
      "{'predicted_probability': [[0.030335022136569023]], 'predicted_label': [[0.0]]}\n"
     ]
    }
   ],
   "source": [
    "test_messages = [body_]\n",
    "one_hot_test_messages = one_hot_encode(test_messages, vocabulary_length)\n",
    "encoded_test_messages = vectorize_sequences(one_hot_test_messages, vocabulary_length)\n",
    "\n",
    "result = model.predict(encoded_test_messages)\n",
    "print(result)"
   ]
  },
  {
   "cell_type": "code",
   "execution_count": 39,
   "id": "ff19bd74",
   "metadata": {},
   "outputs": [
    {
     "ename": "IndexError",
     "evalue": "list index out of range",
     "output_type": "error",
     "traceback": [
      "\u001b[0;31m---------------------------------------------------------------------------\u001b[0m",
      "\u001b[0;31mIndexError\u001b[0m                                Traceback (most recent call last)",
      "\u001b[0;32m<ipython-input-39-1aedd11277d3>\u001b[0m in \u001b[0;36m<module>\u001b[0;34m\u001b[0m\n\u001b[0;32m----> 1\u001b[0;31m \u001b[0mdate_\u001b[0m \u001b[0;34m=\u001b[0m \u001b[0mvalue\u001b[0m\u001b[0;34m[\u001b[0m\u001b[0;36m0\u001b[0m\u001b[0;34m]\u001b[0m\u001b[0;34m.\u001b[0m\u001b[0msplit\u001b[0m\u001b[0;34m(\u001b[0m\u001b[0;34m\"Date:\"\u001b[0m\u001b[0;34m)\u001b[0m\u001b[0;34m[\u001b[0m\u001b[0;36m1\u001b[0m\u001b[0;34m]\u001b[0m\u001b[0;34m.\u001b[0m\u001b[0mstrip\u001b[0m\u001b[0;34m(\u001b[0m\u001b[0;34m)\u001b[0m\u001b[0;34m\u001b[0m\u001b[0;34m\u001b[0m\u001b[0m\n\u001b[0m\u001b[1;32m      2\u001b[0m \u001b[0mto_\u001b[0m \u001b[0;34m=\u001b[0m \u001b[0mvalue\u001b[0m\u001b[0;34m[\u001b[0m\u001b[0;36m1\u001b[0m\u001b[0;34m]\u001b[0m\u001b[0;34m.\u001b[0m\u001b[0msplit\u001b[0m\u001b[0;34m(\u001b[0m\u001b[0;34m\"To:\"\u001b[0m\u001b[0;34m)\u001b[0m\u001b[0;34m[\u001b[0m\u001b[0;36m1\u001b[0m\u001b[0;34m]\u001b[0m\u001b[0;34m.\u001b[0m\u001b[0mstrip\u001b[0m\u001b[0;34m(\u001b[0m\u001b[0;34m)\u001b[0m\u001b[0;34m\u001b[0m\u001b[0;34m\u001b[0m\u001b[0m\n\u001b[1;32m      3\u001b[0m \u001b[0mfrom_\u001b[0m \u001b[0;34m=\u001b[0m \u001b[0mvalue\u001b[0m\u001b[0;34m[\u001b[0m\u001b[0;36m2\u001b[0m\u001b[0;34m]\u001b[0m\u001b[0;34m.\u001b[0m\u001b[0msplit\u001b[0m\u001b[0;34m(\u001b[0m\u001b[0;34m\"From:\"\u001b[0m\u001b[0;34m)\u001b[0m\u001b[0;34m[\u001b[0m\u001b[0;36m1\u001b[0m\u001b[0;34m]\u001b[0m\u001b[0;34m.\u001b[0m\u001b[0mstrip\u001b[0m\u001b[0;34m(\u001b[0m\u001b[0;34m)\u001b[0m\u001b[0;34m\u001b[0m\u001b[0;34m\u001b[0m\u001b[0m\n\u001b[1;32m      4\u001b[0m \u001b[0msubject_\u001b[0m \u001b[0;34m=\u001b[0m \u001b[0mvalue\u001b[0m\u001b[0;34m[\u001b[0m\u001b[0;36m3\u001b[0m\u001b[0;34m]\u001b[0m\u001b[0;34m.\u001b[0m\u001b[0msplit\u001b[0m\u001b[0;34m(\u001b[0m\u001b[0;34m\"Subject:\"\u001b[0m\u001b[0;34m)\u001b[0m\u001b[0;34m[\u001b[0m\u001b[0;36m1\u001b[0m\u001b[0;34m]\u001b[0m\u001b[0;34m.\u001b[0m\u001b[0mstrip\u001b[0m\u001b[0;34m(\u001b[0m\u001b[0;34m)\u001b[0m\u001b[0;34m\u001b[0m\u001b[0;34m\u001b[0m\u001b[0m\n\u001b[1;32m      5\u001b[0m \u001b[0mbody_\u001b[0m \u001b[0;34m=\u001b[0m \u001b[0;34m[\u001b[0m\u001b[0;34m]\u001b[0m\u001b[0;34m\u001b[0m\u001b[0;34m\u001b[0m\u001b[0m\n",
      "\u001b[0;31mIndexError\u001b[0m: list index out of range"
     ]
    }
   ],
   "source": [
    "date_ = value[0].split(\"Date:\")[1].strip()\n",
    "to_ = value[1].split(\"To:\")[1].strip()\n",
    "from_ = value[2].split(\"From:\")[1].strip()\n",
    "subject_ = value[3].split(\"Subject:\")[1].strip()\n",
    "body_ = []\n",
    "for line in value[4:]:\n",
    "    line = line.strip()\n",
    "    if line != '':\n",
    "        body_.append(line)\n",
    "body_ = ' '.join(body_)"
   ]
  },
  {
   "cell_type": "code",
   "execution_count": null,
   "id": "6d4f090a",
   "metadata": {},
   "outputs": [],
   "source": [
    "def lambda_handler(event, context):\n",
    "    print(\"Received event: \" + json.dumps(event))\n",
    "    try:\n",
    "        bucket = event['Records'][0]['s3']['bucket']['name']\n",
    "        key = urllib.parse.unquote_plus(event['Records'][0]['s3']['object']['key'], encoding='utf-8')\n",
    "        today = datetime.now()\n",
    "\n",
    "        header = s3.head_object(Bucket=bucket, Key=key)\n",
    "        if 'x-amz-meta-customlabels' in header['ResponseMetadata']['HTTPHeaders']:\n",
    "            custom_labels = header['ResponseMetadata']['HTTPHeaders']['x-amz-meta-customlabels'].split(',')\n",
    "            print(\"detected custom labels : {}\".format(custom_labels))\n",
    "        else:\n",
    "            custom_labels = []\n",
    "\n",
    "\n",
    "        response = rekognition.detect_labels(Image={'S3Object':{'Bucket':bucket,'Name':key}},\n",
    "            MaxLabels=10)\n",
    "        print(\"rekognition response : {}\".format(response))\n",
    "        if 'Labels' in response:\n",
    "            labels = [x['Name'] for x in response['Labels']]\n",
    "            print(\"detected labels : {}\".format(labels))\n",
    "        else:\n",
    "            labels = []\n",
    "\n",
    "        total_labels = custom_labels + labels\n",
    "        clean_labels = []\n",
    "        if total_labels:\n",
    "            for label in total_labels:\n",
    "                clean_label = ''.join(x for x in label if x.isalpha()).lower()\n",
    "                clean_labels.append(clean_label)\n",
    "\n",
    "            opensearch_id = datetime.now().strftime(\"%Y%m%d%H%M%S%f\")\n",
    "            document = {\n",
    "                    'label': \",\".join(clean_labels), \n",
    "                    's3_path': \"https://{}.s3.amazonaws.com/{}\".format(bucket, key)\n",
    "                }\n",
    "            response = opensearch.index(\n",
    "                index = index_name,\n",
    "                body = document,\n",
    "                id = opensearch_id,\n",
    "                refresh = True\n",
    "            )\n",
    "            print(\"Adding to OpenSearch : index : {}, body : {}, id : {}\".format(index_name, document, opensearch_id))\n",
    "\n",
    "        return {\n",
    "            \"objectKey\": key,\n",
    "            \"bucket\": bucket,\n",
    "            'createdTimestamp': today.isoformat(),\n",
    "            \"labels\": total_labels,\n",
    "        }\n",
    "    except Exception as e:\n",
    "        print(e)\n",
    "        print('Error processing object {} from bucket {}.'.format(key, bucket))\n",
    "        raise e"
   ]
  }
 ],
 "metadata": {
  "kernelspec": {
   "display_name": "cloud",
   "language": "python",
   "name": "cloud"
  },
  "language_info": {
   "codemirror_mode": {
    "name": "ipython",
    "version": 3
   },
   "file_extension": ".py",
   "mimetype": "text/x-python",
   "name": "python",
   "nbconvert_exporter": "python",
   "pygments_lexer": "ipython3",
   "version": "3.6.9"
  }
 },
 "nbformat": 4,
 "nbformat_minor": 5
}
